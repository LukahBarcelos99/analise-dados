{
 "cells": [
  {
   "cell_type": "markdown",
   "metadata": {},
   "source": [
    "## Estruturas de Controle \n",
    "\n",
    "\n",
    "### Estruturas de Seleção\n",
    "\n",
    "As estruturas de seleção *if* e *if/else* são usadas para controle da execução sequêncial de um programa. \n",
    "Na prática, se uma determinada condição lógica for avaliada como verdadeira, o interpretador Python executa todos os comandos dentro do bloco da estrutura de seleção. \n",
    "Em Python, para a estruturas de seleção única usamos a palavra-chave *if* e para estruturas de seleção múltiplas usamos o nome *elsif*. \n",
    "\n",
    "```python\n",
    " if condicao1:\n",
    "    # Executa quando a condição1 for verdadeira\n",
    " elsif condicao2:\n",
    "    # Executa quando a condição2 for verdadeira\n",
    " else:\n",
    "    # Executa quando todas condições não forem satisfeitas\n",
    "```\n",
    "\n",
    "### Estruturas de Repetição\n",
    "\n",
    "O Python possui duas estruturas de repetição, são elas: *for* e *while*. A estrutura de repetição *for*, em sua sintaxe, difere um pouco, por exemplo, das linguagens de programação baseadas em C, onde definimos uma condição de parada (i < n) e um passo de iteração (i++). O comando *for* é usado para percorrer os itens de qualquer sequência (p. ex.: lista, string ou tupla) para que eles apareçam em série ou simplesmente como um laço de repetição (*loop*). "
   ]
  },
  {
   "cell_type": "code",
   "execution_count": null,
   "metadata": {},
   "outputs": [],
   "source": [
    "cores  = [\"Vermelho\", \"Laranja\", \"Amarelo\", \"Verde\", \"Azul\", \"Anil\", \"Violeta\"]\n",
    "\n",
    "for cor in cores:\n",
    "    print(\"Eu ♥ \" + cor)"
   ]
  },
  {
   "cell_type": "markdown",
   "metadata": {},
   "source": [
    "Se você possui alguma experiência anterior com programação, deve estar se perguntando neste exato momento, como podemos percorrer os itens de uma sequência usando índices? Para tal, podemos utilizar a função range() em conjunto com a função len(). A função *range(start, stop, step)* do Python, retorna uma sequência de números, começando em 0 (zero) por padrão, e incrementando de um em um, até o fim de um número especificado como parâmetro. A função len(), por sua vez, retorna o número de itens de uma determina sequência. Acompanhe abaixo, alguns exemplos de como essas funções podem ser usadas em conjunto com a instrução *for* para indexar itens de uma lista."
   ]
  },
  {
   "cell_type": "code",
   "execution_count": null,
   "metadata": {},
   "outputs": [],
   "source": [
    "# EXEMPLOS - Função range()\n",
    "lista1 = range(5)\n",
    "lista2 = range(10, 20, 2)\n",
    "lista3 = range(1, 5)\n",
    "lista4 = range(5, -1, -1)\n",
    "\n",
    "print(\"EXEMPLOS: Função range()\\n\")\n",
    "\n",
    "for item in lista1:\n",
    "    print(item) # Para range(5) Saída: [0, 1, 2, 3, 4]\n",
    "\n",
    "print(\"\\n\") \n",
    "    \n",
    "for item in lista2:\n",
    "    print(item) # Para range(10, 20, 2) Saída: [10, 12, 14, 16, 18]\n",
    "\n",
    "print(\"\\n\")     \n",
    "    \n",
    "for item in lista3:\n",
    "    print(item) # Para range(1, 5) Saída: [1, 2, 3, 4]\n",
    "\n",
    "print(\"\\n\")     \n",
    "    \n",
    "for item in lista4:\n",
    "    print(item) # Para range(1, 5) Saída: [1, 2, 3, 4]\n",
    "    \n",
    "    \n",
    "print(\"\\n\")     \n",
    "    \n",
    "    \n",
    "# EXEMPLOS - for, range() e len\n",
    "print(\"EXEMPLOS: for, len() e range()\\n\")\n",
    "\n",
    "\n",
    "# Imprimindo lista de cores\n",
    "cores  = [\"Vermelho\", \"Laranja\", \"Amarelo\", \"Verde\", \"Azul\", \"Anil\", \"Violeta\"]\n",
    "n = len(cores) # a função len() retorna o número de elementos\n",
    "\n",
    "for i in range(n):\n",
    "    print(cores[i])\n",
    "\n",
    "print(\"\\n\")\n",
    "\n",
    "for i in range((n - 1), -1, -1):\n",
    "    print(cores[i])\n",
    "\n",
    "\n",
    "# for aninhado para impressão de um padrão numérico\n",
    "for i in range(10):\n",
    "    for j in range(i):\n",
    "        print(i, end=\" \")    # Imprime o número\n",
    "    print(\"\\n\")              # Adiciona quebra de linha ao final de cada linha"
   ]
  },
  {
   "cell_type": "markdown",
   "metadata": {},
   "source": [
    "Assim como o for, a estrutura de repetição while é usada para repetir um trecho de código várias vezes, porém, no while a repetição continua enquanto uma condição lógica definida seja verdadeira (True), veja alguns exemplos abaixo: \n",
    "\n",
    "```python\n",
    "while condicao: # enquanto condição for verdadeira\n",
    "    # Executa algum(ns) comando(s)\n",
    "    # Atualiza variável de controle\n",
    "```"
   ]
  },
  {
   "cell_type": "code",
   "execution_count": null,
   "metadata": {},
   "outputs": [],
   "source": [
    "contador = 0                 # Define uma variável de controle que será avaliada na condição\n",
    "\n",
    "while contador < 10:         # enquanto a condição (contador < 10) for verdadeira\n",
    "    print(contador)          # Executa algum comando: print(contador)\n",
    "    contador = contador + 1  # Atualiza a variável de controle\n",
    "    \n",
    "print(\"\\n\")\n",
    "\n",
    "\n",
    "# EXEMPLO: Algoritmo Fatorial Iterativo\n",
    "n = 3\n",
    "i = 1\n",
    "resultado = 1\n",
    "\n",
    "while i <= n:\n",
    "    resultado = resultado * i\n",
    "    i = i + 1\n",
    "    \n",
    "print(\"Fatorial de %d é %d\" % (n, resultado))\n",
    "    "
   ]
  },
  {
   "cell_type": "markdown",
   "metadata": {},
   "source": [
    "### Técnicas de Looping\n",
    "\n",
    "1. Ao percorrer dicionários, a chave e o valor, podem ser recuperados ao mesmo tempo através do método *items()*;\n",
    "\n",
    "```python\n",
    "websites = {'site': \"Python Software Foundation\", 'url': \"https://www.python.org/\"}\n",
    "\n",
    "for key, value in websites.items():\n",
    "    print(key, value)\n",
    "    \n",
    "# Saída\n",
    "# site Python Software Foundation\n",
    "# url https://www.python.org/\n",
    "```\n",
    "\n",
    "2. Ao percorrer sequências, índice e o item, podem ser recuperados ao mesmo tempo através do método *enumerate()*;\n",
    "\n",
    "```python\n",
    "rgb = [\"Red\", \"Green\", \"Blue\"]\n",
    "\n",
    "for i, item in enumerate(rgb):\n",
    "    print(i, item)\n",
    "    \n",
    "# Saída\n",
    "# 0 Red\n",
    "# 1 Green\n",
    "# 2 Blue\n",
    "```\n",
    "\n",
    "3. Para percorrer duas ou mais sequências ao mesmo tempo, as entradas podem ser emparelhadas através da função *zip()*;\n",
    "\n",
    "\n",
    "```python\n",
    "condinomes_android = [\"Petit Four\", \"Eclair\",  \"Honeycomb\", \"Ice Cream Sandwich\", \"Lollipop\", \"Marshmallow\", \"Nougat\", \"Oreo\", \"Pie\"]\n",
    "versoes_android = [\"1.1\", \"2.0 – 2.1\", \"3.0 – 3.2.6\", \"4.0 – 4.0.4\", \"5.0 – 5.1.1\", \"6.0 – 6.0.1\", \"7.0 – 7.1.2\", \"8.0 – 8.1\", \"9.0\"]\n",
    "\n",
    "for codinome, versao in zip(condinomes_android, versoes_android):\n",
    "    print(codinome, versao)\n",
    "    \n",
    "# Saída\n",
    "# Petit Four 1.1\n",
    "# Eclair 2.0 – 2.1\n",
    "# Honeycomb 3.0 – 3.2.6\n",
    "# Ice Cream Sandwich 4.0 – 4.0.4\n",
    "# Lollipop 5.0 – 5.1.1\n",
    "# Marshmallow 6.0 – 6.0.1\n",
    "# Nougat 7.0 – 7.1.2\n",
    "# Oreo 8.0 – 8.1\n",
    "# Pie 9.0\n",
    "```\n",
    "\n",
    "4. Para iterar em uma sequência ordenada sem alterar a ordem dos elementos utilize o metodo *sorted()* que irá retornar uma nova lista ordenada sem alterar a original\n",
    "\n",
    "```python\n",
    "estados_sudeste_brasileiro = [\"São Paulo\", \"Rio de Janeiro\", \"Minas Gerais\", \"Espírito Santo\"]\n",
    "\n",
    "for estado in sorted(set(estados_sudeste_brasileiro)):\n",
    "    print(estado)\n",
    "    \n",
    "# Saída\n",
    "# Espírito Santo\n",
    "# Minas Gerais\n",
    "# Rio de Janeiro\n",
    "# São Paulo    \n",
    "    \n",
    "```"
   ]
  },
  {
   "cell_type": "markdown",
   "metadata": {},
   "source": [
    "## Exercícios"
   ]
  },
  {
   "cell_type": "markdown",
   "metadata": {},
   "source": []
  },
  {
   "cell_type": "code",
   "execution_count": null,
   "metadata": {},
   "outputs": [],
   "source": []
  },
  {
   "cell_type": "markdown",
   "metadata": {},
   "source": []
  },
  {
   "cell_type": "code",
   "execution_count": null,
   "metadata": {},
   "outputs": [],
   "source": []
  },
  {
   "cell_type": "markdown",
   "metadata": {},
   "source": []
  },
  {
   "cell_type": "code",
   "execution_count": null,
   "metadata": {},
   "outputs": [],
   "source": []
  },
  {
   "cell_type": "markdown",
   "metadata": {},
   "source": []
  },
  {
   "cell_type": "code",
   "execution_count": null,
   "metadata": {},
   "outputs": [],
   "source": []
  },
  {
   "cell_type": "markdown",
   "metadata": {},
   "source": []
  },
  {
   "cell_type": "code",
   "execution_count": null,
   "metadata": {},
   "outputs": [],
   "source": []
  },
  {
   "cell_type": "markdown",
   "metadata": {},
   "source": []
  },
  {
   "cell_type": "code",
   "execution_count": null,
   "metadata": {},
   "outputs": [],
   "source": []
  },
  {
   "cell_type": "markdown",
   "metadata": {},
   "source": []
  },
  {
   "cell_type": "code",
   "execution_count": null,
   "metadata": {},
   "outputs": [],
   "source": []
  },
  {
   "cell_type": "markdown",
   "metadata": {},
   "source": []
  }
 ],
 "metadata": {
  "kernelspec": {
   "display_name": "Python 3",
   "language": "python",
   "name": "python3"
  },
  "language_info": {
   "codemirror_mode": {
    "name": "ipython",
    "version": 3
   },
   "file_extension": ".py",
   "mimetype": "text/x-python",
   "name": "python",
   "nbconvert_exporter": "python",
   "pygments_lexer": "ipython3",
   "version": "3.7.4"
  }
 },
 "nbformat": 4,
 "nbformat_minor": 4
}
